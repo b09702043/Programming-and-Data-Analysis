{
 "cells": [
  {
   "cell_type": "markdown",
   "metadata": {
    "deletable": false,
    "editable": false
   },
   "source": [
    "# Programming and Data Analysis\n",
    "\n",
    "> Assignment 2\n",
    "\n",
    "Kuo, Yao-Jen <yaojenkuo@ntu.edu.tw> from [DATAINPOINT](https://www.datainpoint.com)"
   ]
  },
  {
   "cell_type": "markdown",
   "metadata": {
    "deletable": false,
    "editable": false
   },
   "source": [
    "## Instructions\n",
    "\n",
    "- The assignment will be disconnected if idling over 10 minutes, we can reactivate a new session by clicking the assignment link again.\n",
    "- We've imported necessary modules at the top of each assignment.\n",
    "- We've put necessary files(if any) in the working directory.\n",
    "- We've defined the names of functions/inputs/parameters for you.\n",
    "- Write down your solution between the comments `### BEGIN SOLUTION` and `### END SOLUTION`.\n",
    "- It is NECESSARY to `return` the answer, tests will fail by just printing out the answer.\n",
    "- `SyntaxError` breaks our `test_runner.py` and results in a zero point grade. It is highly recommended testing your solution by calling functions/methods in notebook or running tests before submission.\n",
    "- Running tests to see if your solutions are right:\n",
    "    - File -> Save Notebook to save exercises.ipynb.\n",
    "    - File -> New -> Terminal to open a Terminal.\n",
    "    - Use command `python test_runner.py` to run test.\n",
    "- When you are ready to submit, click File -> Export Notebook As -> Executable Script.\n",
    "- Rename the exported Python script with your student ID(e.g. `b01234567.py`) and upload to the Assignment session on NTU COOL/NTNU Moodle."
   ]
  },
  {
   "cell_type": "markdown",
   "metadata": {},
   "source": [
    "## 01. Define a function named `find_bmi_category(bmi)` which returns the category of BMI according to BMI.\n",
    "\n",
    "Source: <https://en.wikipedia.org/wiki/Body_mass_index#Categories>\n",
    "\n",
    "- Expected inputs: `float`.\n",
    "- Expected outputs: `str`."
   ]
  },
  {
   "cell_type": "code",
   "execution_count": null,
   "metadata": {},
   "outputs": [],
   "source": [
    "def find_bmi_category(bmi: float) -> str:\n",
    "    \"\"\"\n",
    "    >>> find_bmi_category(32.90) # Zion Williamson, professional basketball player\n",
    "    'Class I Obese'\n",
    "    >>> find_bmi_category(26.63) # LeBron James, professional basketball player\n",
    "    'Pre-obese'\n",
    "    >>> find_bmi_category(24.83) # Roger Federer, professional tennis player\n",
    "    'Normal range'\n",
    "    >>> find_bmi_category(17.58) # Suguru Osako, professional marathon runner \n",
    "    'Mild thinness'\n",
    "    \"\"\"\n",
    "    ### BEGIN SOLUTION\n",
    "    ans = \"\"\n",
    "    if bmi < 16.0:\n",
    "        ans = 'Severe thinness'\n",
    "    elif 16.0 <= bmi < 17.0:\n",
    "        ans = 'Moderate thinness'\n",
    "    elif 17.0 <= bmi < 18.5:\n",
    "        ans = 'Mild thinness'\n",
    "    elif 18.5 <= bmi < 25.0:\n",
    "        ans = 'Normal range'\n",
    "    elif 25.0 <= bmi < 30.0:\n",
    "        ans = 'Pre-obese'\n",
    "    elif 30.0 <= bmi < 35.0:\n",
    "        ans = 'Class I Obese'\n",
    "    elif 35.0 <= bmi < 40.0:\n",
    "        ans = 'Class II Obese'\n",
    "    else:\n",
    "        ans = 'Class III Obese'\n",
    "    return ans\n",
    "    ### END SOLUTION"
   ]
  },
  {
   "cell_type": "markdown",
   "metadata": {},
   "source": [
    "## 02. Define a function named `convert_temperature_degrees_to_different_scales(x, from_scale, to_scale)` which converts temperature degrees between 3 different scales.\n",
    "\n",
    "\\begin{equation}\n",
    "\\text{Fahrenheit}(^{\\circ} F) = \\text{Celsius}(^{\\circ} C) \\times \\frac{9}{5} + 32 \\\\\n",
    "\\text{Celsius}(^{\\circ} C) = (\\text{Fahrenheit}(^{\\circ} F) - 32) \\times \\frac{5}{9} \\\\\n",
    "\\text{Kelvin}(K) = Celsius(^{\\circ} C) + 273.15\n",
    "\\end{equation}\n",
    "\n",
    "- Expected inputs: `float`/`str`/`str`.\n",
    "- Expected outputs: `float`."
   ]
  },
  {
   "cell_type": "code",
   "execution_count": null,
   "metadata": {},
   "outputs": [],
   "source": [
    "def convert_temperature_degrees_to_different_scales(x: float, from_scale: str, to_scale: str) -> float:\n",
    "    \"\"\"\n",
    "    >>> convert_temperature_degrees_to_different_scales(0, \"Celsius\", \"Fahrenheit\")\n",
    "    32.0\n",
    "    >>> convert_temperature_degrees_to_different_scales(100, \"Celsius\", \"Fahrenheit\")\n",
    "    212.0\n",
    "    >>> convert_temperature_degrees_to_different_scales(32, \"Fahrenheit\", \"Celsius\")\n",
    "    0.0\n",
    "    >>> convert_temperature_degrees_to_different_scales(212, \"Fahrenheit\", \"Celsius\")\n",
    "    100.0\n",
    "    >>> convert_temperature_degrees_to_different_scales(0, \"Celsius\", \"Kelvin\")\n",
    "    273.15\n",
    "    >>> convert_temperature_degrees_to_different_scales(100, \"Celsius\", \"Kelvin\")\n",
    "    373.15\n",
    "    >>> convert_temperature_degrees_to_different_scales(32, \"Fahrenheit\", \"Kelvin\")\n",
    "    273.15\n",
    "    >>> convert_temperature_degrees_to_different_scales(212, \"Fahrenheit\", \"Kelvin\")\n",
    "    373.15\n",
    "    \"\"\"\n",
    "    ### BEGIN SOLUTION\n",
    "    if from_scale == \"Fahrenheit\" and to_scale == \"Celsius\":\n",
    "        ans = (x -32) * (5/9)\n",
    "    elif from_scale == \"Fahrenheit\" and to_scale == \"Kelvin\":\n",
    "        ans = ((x -32) * (5/9)) + 273.15 \n",
    "    elif from_scale == \"Celsius\" and to_scale == \"Fahrenheit\":\n",
    "        ans = ((9/5) * x) + 32\n",
    "    elif from_scale == \"Celsius\" and to_scale == \"Kelvin\":\n",
    "        ans = x + 273.15\n",
    "    elif from_scale == \"Kelvin\" and to_scale == \"Fahrenheit\":\n",
    "        ans = ((9/5) * (x - 273.15)) + 32\n",
    "    elif from_scale == \"Kelvin\" and to_scale == \"Celsius\":\n",
    "        ans = x - 273.15\n",
    "    return ans     \n",
    "    ### END SOLUTION"
   ]
  },
  {
   "cell_type": "markdown",
   "metadata": {},
   "source": [
    "## 03. Define a function named `check_types(x)` which returns the type of `x` in a string format.\n",
    "\n",
    "- Expected inputs: an unknown type of `x`.\n",
    "- Expected outputs: `str`."
   ]
  },
  {
   "cell_type": "code",
   "execution_count": null,
   "metadata": {},
   "outputs": [],
   "source": [
    "def check_types(x) -> str:\n",
    "    \"\"\"\n",
    "    >>> check_types(1)\n",
    "    'int'\n",
    "    >>> check_types(1.0)\n",
    "    'float'\n",
    "    >>> check_types(False)\n",
    "    'bool'\n",
    "    >>> check_types(True)\n",
    "    'bool'\n",
    "    >>> check_types('5566')\n",
    "    'str'\n",
    "    >>> check_types(None)\n",
    "    'NoneType'\n",
    "    \"\"\"\n",
    "    ### BEGIN SOLUTION\n",
    "    ans = \"\"\n",
    "    if type(x) is str:\n",
    "\t    ans = \"str\"\n",
    "    elif type(x) is int:\n",
    "\t    ans = \"int\"\n",
    "    elif type(x) is float:\n",
    "\t    ans = \"float\"\n",
    "    elif type(x) is bool:\n",
    "\t    ans = \"bool\"\n",
    "    else:\n",
    "\t    ans = \"NoneType\"\n",
    "    return ans\n",
    "    ### END SOLUTION"
   ]
  },
  {
   "cell_type": "markdown",
   "metadata": {},
   "source": [
    "## 04. Define a function named `fizz_buzz(x)` which returns `'Fizz'` when `x` can be divided by 3, returns `'Buzz'` when `x` can be divided by 5, returns `'Fizz Buzz'` when `x` can be divided by both 3 and 5. Otherwise, the function returns `x` itself.\n",
    "\n",
    "- Expected inputs: `int`.\n",
    "- Expected outputs: `int`/`str`."
   ]
  },
  {
   "cell_type": "code",
   "execution_count": null,
   "metadata": {},
   "outputs": [],
   "source": [
    "from typing import Union\n",
    "\n",
    "def fizz_buzz(x: int) -> Union[int, str]:\n",
    "    \"\"\"\n",
    "    >>> fizz_buzz(0)\n",
    "    'Fizz Buzz'\n",
    "    >>> fizz_buzz(3)\n",
    "    'Fizz'\n",
    "    >>> fizz_buzz(5)\n",
    "    'Buzz'\n",
    "    >>> fizz_buzz(15)\n",
    "    'Fizz Buzz'\n",
    "    >>> fizz_buzz(16)\n",
    "    16\n",
    "    \"\"\"\n",
    "    ### BEGIN SOLUTION\n",
    "    if (x % 3) == 0 and (x % 5) == 0:\n",
    "        ans = \"Fizz Buzz\"\n",
    "    if (x % 3) == 0 and (x % 5) != 0:\n",
    "        ans = \"Fizz\"\n",
    "    if (x % 3) != 0 and (x % 5) == 0:\n",
    "        ans = \"Buzz\"\n",
    "    if (x % 3) != 0 and (x % 5) != 0:\n",
    "        ans = x\n",
    "    return ans\n",
    "    ### END SOLUTION"
   ]
  },
  {
   "cell_type": "markdown",
   "metadata": {},
   "source": [
    "## 05. Define a function named `first_n_fizz_buzz(n)` which returns the first `n` FizzBuzz numbers as a `list`.\n",
    "\n",
    "- Expected inputs: `int`.\n",
    "- Expected outputs: `list`."
   ]
  },
  {
   "cell_type": "code",
   "execution_count": null,
   "metadata": {},
   "outputs": [],
   "source": [
    "def first_n_fizz_buzz(n: int) -> list:\n",
    "    \"\"\"\n",
    "    >>> first_n_fizz_buzz(4)\n",
    "    ['Fizz Buzz', 1, 2, 'Fizz']\n",
    "    >>> first_n_fizz_buzz(6)\n",
    "    ['Fizz Buzz', 1, 2, 'Fizz', 4, 'Buzz']\n",
    "    >>> first_n_fizz_buzz(16)\n",
    "    ['Fizz Buzz', 1, 2, 'Fizz', 4, 'Buzz', 'Fizz', 7, 8, 'Fizz', 'Buzz', 11, 'Fizz', 13, 14, 'Fizz Buzz']\n",
    "    \"\"\"\n",
    "    ### BEGIN SOLUTION\n",
    "    ans = []\n",
    "    for i in range(n):\n",
    "        if (i % 3) == 0 and (i % 5) == 0:\n",
    "            ans.append(\"Fizz Buzz\")\n",
    "        if (i % 3) == 0 and (i % 5) != 0:\n",
    "            ans.append(\"Fizz\")\n",
    "        if (i % 3) != 0 and (i % 5) == 0:\n",
    "            ans.append(\"Buzz\")\n",
    "        if (i % 3) != 0 and (i % 5) != 0:\n",
    "            ans.append(i)\n",
    "    return ans\n",
    "    ### END SOLUTION"
   ]
  },
  {
   "cell_type": "markdown",
   "metadata": {},
   "source": [
    "## 06. Define a function named `retrieve_the_middle_elements(x)` which returns the middle elements of a given `list`. \n",
    "\n",
    "- Expected inputs: `list`.\n",
    "- Expected outputs: `int`/`tuple`."
   ]
  },
  {
   "cell_type": "code",
   "execution_count": null,
   "metadata": {},
   "outputs": [],
   "source": [
    "from typing import Union\n",
    "\n",
    "def retrieve_the_middle_elements(x: list) -> Union[int, tuple]:\n",
    "    \"\"\"\n",
    "    >>> retrieve_the_middle_elements([2, 3, 5])\n",
    "    3\n",
    "    >>> retrieve_the_middle_elements([2, 3, 5, 7])\n",
    "    (3, 5)\n",
    "    >>> retrieve_the_middle_elements([2, 3, 5, 7, 11])\n",
    "    5\n",
    "    >>> retrieve_the_middle_elements([2, 3, 5, 7, 11, 13])\n",
    "    (5, 7)\n",
    "    \"\"\"\n",
    "    ### BEGIN SOLUTION\n",
    "    ans = tuple()\n",
    "    if len(x) % 2 != 0:\n",
    "         ans = (x[len(x) // 2])\n",
    "    else:\n",
    "         ans += ((x[len(x) // 2 - 1]),)\n",
    "         ans += ((x[(len(x) // 2)]),)\n",
    "    return ans\n",
    "    ### END SOLUTION"
   ]
  },
  {
   "cell_type": "markdown",
   "metadata": {},
   "source": [
    "## 07. Define a function named `median(x)` which returns the median value of a given list.\n",
    "\n",
    "Source: <https://en.wikipedia.org/wiki/Median>\n",
    "\n",
    "- Expected inputs: `list`\n",
    "- Expected outputs: `int`/`float`"
   ]
  },
  {
   "cell_type": "code",
   "execution_count": null,
   "metadata": {},
   "outputs": [],
   "source": [
    "from typing import Union\n",
    "\n",
    "def median(x: list) -> Union[int, float]:\n",
    "    \"\"\"\n",
    "    >>> median([2, 3, 5, 7, 11])\n",
    "    5\n",
    "    >>> median([2, 3, 5, 7, 11, 13])\n",
    "    6.0\n",
    "    >>> median([11, 13, 17, 2, 3, 5, 7])\n",
    "    7\n",
    "    >>> median([7, 11, 13, 17, 19, 2, 3, 5])\n",
    "    9.0\n",
    "    \"\"\"\n",
    "    ### BEGIN SOLUTION\n",
    "    x.sort()\n",
    "    if len(x) % 2 != 0:  \n",
    "        # 奇數個\n",
    "        ans = x[len(x) // 2]\n",
    "    else:  \n",
    "        # 偶數個\n",
    "        ans = (x[len(x) // 2 - 1] + x[len(x) // 2]) / 2 \n",
    "    return ans\n",
    "    ### END SOLUTION"
   ]
  },
  {
   "cell_type": "markdown",
   "metadata": {},
   "source": [
    "## 08. Define a function named `collect_divisors(x)` which returns all positive divisors of a given `int`.\n",
    "\n",
    "Source: <https://en.wikipedia.org/wiki/Divisor>\n",
    "\n",
    "- Expected inputs: `int`.\n",
    "- Expected outputs: `list`."
   ]
  },
  {
   "cell_type": "code",
   "execution_count": null,
   "metadata": {},
   "outputs": [],
   "source": [
    "def collect_divisors(x: int) -> list:\n",
    "    \"\"\"\n",
    "    >>> collect_divisors(1)\n",
    "    [1]\n",
    "    >>> collect_divisors(2)\n",
    "    [1, 2]\n",
    "    >>> collect_divisors(3)\n",
    "    [1, 3]\n",
    "    >>> collect_divisors(4)\n",
    "    [1, 2, 4]\n",
    "    >>> collect_divisors(5)\n",
    "    [1, 5]\n",
    "    \"\"\"\n",
    "    ### BEGIN SOLUTION\n",
    "    ans = []\n",
    "    for i in range(1, x + 1):\n",
    "        if x % i == 0:\n",
    "            ans.append(i)\n",
    "    return ans\n",
    "    ### END SOLUTION"
   ]
  },
  {
   "cell_type": "markdown",
   "metadata": {},
   "source": [
    "## 09. Define a function named `is_prime(x)` which returns whether `x` is a prime number or not. You may extend the previous `collect_divisors()` function to solve this problem.\n",
    "\n",
    "Source: <https://en.wikipedia.org/wiki/Prime_number>\n",
    "\n",
    "- Expected inputs: `int`\n",
    "- Expected outputs: `bool`"
   ]
  },
  {
   "cell_type": "code",
   "execution_count": null,
   "metadata": {},
   "outputs": [],
   "source": [
    "def is_prime(x: int) -> bool:\n",
    "    \"\"\"\n",
    "    >>> is_prime(1)\n",
    "    False\n",
    "    >>> is_prime(2)\n",
    "    True\n",
    "    >>> is_prime(3)\n",
    "    True\n",
    "    >>> is_prime(4)\n",
    "    False\n",
    "    >>> is_prime(5)\n",
    "    True\n",
    "    \"\"\"\n",
    "    ### BEGIN SOLUTION\n",
    "    ans = []\n",
    "    for i in range(1, x + 1):\n",
    "        if x % i == 0:\n",
    "            ans.append(i)\n",
    "    return len(ans) == 2\n",
    "    ### END SOLUTION"
   ]
  },
  {
   "cell_type": "markdown",
   "metadata": {},
   "source": [
    "## 10. Define a function named `reverse_vowels(x)` converts the vowels in a word from upper-cased to lower-cased, and from lower-cased to upper-cased.\n",
    "\n",
    "- Expected inputs: `str`\n",
    "- Expected outputs: `str`"
   ]
  },
  {
   "cell_type": "code",
   "execution_count": null,
   "metadata": {},
   "outputs": [],
   "source": [
    "def reverse_vowels(x: str) -> str:\n",
    "    \"\"\"\n",
    "    >>> reverse_vowels('Luke Skywalker')\n",
    "    'LUkE SkywAlkEr'\n",
    "    >>> reverse_vowels('Darth Vadar')\n",
    "    'DArth VAdAr'\n",
    "    >>> reverse_vowels('The Avengers')\n",
    "    'ThE avEngErs'\n",
    "    \"\"\"\n",
    "    ### BEGIN SOLUTION\n",
    "    ans = []\n",
    "    for i in range(len(x)):\n",
    "        ans.append(x[i])\n",
    "    \t\n",
    "    for i in range(len(x)):\n",
    "        if ans[i] == \"a\":\n",
    "            ans[i] = \"A\"\n",
    "        elif ans[i] == \"e\":\n",
    "            ans[i] = \"E\"\n",
    "        elif ans[i] == \"i\":\n",
    "            ans[i] = \"I\"\n",
    "        elif ans[i] == \"o\":\n",
    "            ans[i] = \"O\"\n",
    "        elif ans[i] == \"u\":\n",
    "            ans[i] = \"U\"\n",
    "        elif ans[i] == \"A\":\n",
    "            ans[i] = \"a\"\n",
    "        elif ans[i] == \"E\":\n",
    "            ans[i] = \"e\"\n",
    "        elif ans[i] == \"I\":\n",
    "            ans[i] = \"i\"\n",
    "        elif ans[i] == \"O\":\n",
    "            ans[i] = \"o\"\n",
    "        elif ans[i] == \"U\":\n",
    "            ans[i] = \"u\"\n",
    "\n",
    "    ans_str = ans[0]\n",
    "    for i in range(1, len(ans)):\n",
    "        ans_str = ans_str + ans[i]\n",
    "    return ans_str\n",
    "    ### END SOLUTION"
   ]
  }
 ],
 "metadata": {
  "kernelspec": {
   "display_name": "Python 3 (ipykernel)",
   "language": "python",
   "name": "python3"
  },
  "language_info": {
   "codemirror_mode": {
    "name": "ipython",
    "version": 3
   },
   "file_extension": ".py",
   "mimetype": "text/x-python",
   "name": "python",
   "nbconvert_exporter": "python",
   "pygments_lexer": "ipython3",
   "version": "3.9.7"
  }
 },
 "nbformat": 4,
 "nbformat_minor": 4
}
